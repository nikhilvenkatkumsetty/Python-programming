{
 "cells": [
  {
   "cell_type": "markdown",
   "metadata": {
    "collapsed": true
   },
   "source": [
    "# Assigning different types of data to a variable"
   ]
  },
  {
   "cell_type": "code",
   "execution_count": 1,
   "metadata": {
    "scrolled": true
   },
   "outputs": [
    {
     "name": "stdout",
     "output_type": "stream",
     "text": [
      "<class 'int'>\n"
     ]
    }
   ],
   "source": [
    "x = 3\n",
    "print(type(x))      # type(variable) gives the type of that data. Here 3 is \"int\" type (integer)"
   ]
  },
  {
   "cell_type": "code",
   "execution_count": 2,
   "metadata": {},
   "outputs": [
    {
     "name": "stdout",
     "output_type": "stream",
     "text": [
      "<class 'int'>\n"
     ]
    }
   ],
   "source": [
    "a = -2\n",
    "print(type(a))"
   ]
  },
  {
   "cell_type": "code",
   "execution_count": 3,
   "metadata": {},
   "outputs": [
    {
     "name": "stdout",
     "output_type": "stream",
     "text": [
      "<class 'float'>\n"
     ]
    }
   ],
   "source": [
    "B = 4234.24\n",
    "print(type(B))"
   ]
  },
  {
   "cell_type": "code",
   "execution_count": 4,
   "metadata": {},
   "outputs": [
    {
     "name": "stdout",
     "output_type": "stream",
     "text": [
      "<class 'float'>\n"
     ]
    }
   ],
   "source": [
    "c = -342.45\n",
    "print(type(c))"
   ]
  },
  {
   "cell_type": "code",
   "execution_count": 5,
   "metadata": {},
   "outputs": [
    {
     "name": "stdout",
     "output_type": "stream",
     "text": [
      "<class 'complex'>\n"
     ]
    }
   ],
   "source": [
    "# same variable name can be used in different cells.\n",
    "c = 2 + 3j\n",
    "print(type(c))"
   ]
  },
  {
   "cell_type": "code",
   "execution_count": 6,
   "metadata": {},
   "outputs": [
    {
     "name": "stdout",
     "output_type": "stream",
     "text": [
      "<class 'complex'>\n"
     ]
    }
   ],
   "source": [
    "comp = -5 + 36j\n",
    "print(type(comp))"
   ]
  },
  {
   "cell_type": "code",
   "execution_count": 7,
   "metadata": {},
   "outputs": [
    {
     "name": "stdout",
     "output_type": "stream",
     "text": [
      "True\n",
      "<class 'bool'>\n"
     ]
    }
   ],
   "source": [
    "a = 4\n",
    "b = 10 \n",
    "c = a < b      # gives output as \"True\" or \"False\". This is boolean type\n",
    "print(c)\n",
    "print(type(c))"
   ]
  },
  {
   "cell_type": "markdown",
   "metadata": {},
   "source": [
    "# Strings"
   ]
  },
  {
   "cell_type": "code",
   "execution_count": 8,
   "metadata": {},
   "outputs": [
    {
     "name": "stdout",
     "output_type": "stream",
     "text": [
      "<class 'str'>\n"
     ]
    }
   ],
   "source": [
    "# Anything inside the quotes is called as a \"String\"\n",
    "a = \"Dev Incept\"\n",
    "print(type(a))"
   ]
  },
  {
   "cell_type": "code",
   "execution_count": 9,
   "metadata": {},
   "outputs": [
    {
     "name": "stdout",
     "output_type": "stream",
     "text": [
      "<class 'str'>\n"
     ]
    }
   ],
   "source": [
    "a = ' '\n",
    "print(type(a))  # Even though, we didn't mention anything inside quotes it is considered as a string"
   ]
  },
  {
   "cell_type": "code",
   "execution_count": 10,
   "metadata": {},
   "outputs": [
    {
     "name": "stdout",
     "output_type": "stream",
     "text": [
      "<class 'str'>\n"
     ]
    }
   ],
   "source": [
    "a = \"-4\"     # Even though it is an integer value, the value is inside the quotes so this is a \"string\"\n",
    "print(type(a)) "
   ]
  },
  {
   "cell_type": "markdown",
   "metadata": {},
   "source": [
    "# Operations with strings"
   ]
  },
  {
   "cell_type": "code",
   "execution_count": 11,
   "metadata": {},
   "outputs": [
    {
     "name": "stdout",
     "output_type": "stream",
     "text": [
      "D\n"
     ]
    }
   ],
   "source": [
    "name = \"Dev Incept \"\n",
    "print(name[0])"
   ]
  },
  {
   "cell_type": "code",
   "execution_count": 12,
   "metadata": {},
   "outputs": [
    {
     "name": "stdout",
     "output_type": "stream",
     "text": [
      "Dev\n"
     ]
    }
   ],
   "source": [
    "name = \"Dev Incept\"\n",
    "print(name[0 : 3])"
   ]
  },
  {
   "cell_type": "code",
   "execution_count": 13,
   "metadata": {},
   "outputs": [
    {
     "name": "stdout",
     "output_type": "stream",
     "text": [
      "v Incept\n"
     ]
    }
   ],
   "source": [
    "name = \"Dev Incept\"\n",
    "print(name[2 : ])     # not mentioning ending index,means it prints from starting index mentioned to the end of the string."
   ]
  },
  {
   "cell_type": "code",
   "execution_count": 14,
   "metadata": {},
   "outputs": [
    {
     "data": {
      "text/plain": [
       "'DEV INCEPT'"
      ]
     },
     "execution_count": 14,
     "metadata": {},
     "output_type": "execute_result"
    }
   ],
   "source": [
    "name = \"Dev Incept\"\n",
    "name.upper()"
   ]
  },
  {
   "cell_type": "code",
   "execution_count": 15,
   "metadata": {},
   "outputs": [
    {
     "data": {
      "text/plain": [
       "'dev incept'"
      ]
     },
     "execution_count": 15,
     "metadata": {},
     "output_type": "execute_result"
    }
   ],
   "source": [
    "name = \"Dev Incept\"\n",
    "name.lower()"
   ]
  },
  {
   "cell_type": "code",
   "execution_count": 16,
   "metadata": {},
   "outputs": [
    {
     "name": "stdout",
     "output_type": "stream",
     "text": [
      "['Dev', 'Incept']\n",
      "['Dev I', 'cept']\n"
     ]
    }
   ],
   "source": [
    "# splitting at the space\n",
    "name = \"Dev Incept\" \n",
    "print(name.split())\n",
    "\n",
    "# splitting at \"n\"\n",
    "print(name.split('n'))"
   ]
  },
  {
   "cell_type": "code",
   "execution_count": 17,
   "metadata": {},
   "outputs": [
    {
     "name": "stdout",
     "output_type": "stream",
     "text": [
      "Dev Incept\n"
     ]
    }
   ],
   "source": [
    "name = \"Dev Incept\"\n",
    "print(name[:])      # not assigning starting and ending index gives the \"Full string\""
   ]
  },
  {
   "cell_type": "code",
   "execution_count": 18,
   "metadata": {},
   "outputs": [
    {
     "data": {
      "text/plain": [
       "'Mev Incept'"
      ]
     },
     "execution_count": 18,
     "metadata": {},
     "output_type": "execute_result"
    }
   ],
   "source": [
    "name = \"Dev Incept\" \n",
    "name.replace(\"D\" , \"M\")          # replace(\"which element you want to replace\" , \"What element you want\")"
   ]
  },
  {
   "cell_type": "code",
   "execution_count": 19,
   "metadata": {},
   "outputs": [
    {
     "name": "stdout",
     "output_type": "stream",
     "text": [
      "Dev Incept Rocks\n"
     ]
    }
   ],
   "source": [
    "name = \"Dev Incept\"\n",
    "another_name = \" Rocks\"\n",
    "print(name + another_name)"
   ]
  },
  {
   "cell_type": "code",
   "execution_count": 20,
   "metadata": {},
   "outputs": [
    {
     "name": "stdout",
     "output_type": "stream",
     "text": [
      "Dev Incept Dev Incept \n"
     ]
    }
   ],
   "source": [
    "name = \"Dev Incept \" \n",
    "print(name * 2)"
   ]
  },
  {
   "cell_type": "code",
   "execution_count": 21,
   "metadata": {},
   "outputs": [
    {
     "name": "stdout",
     "output_type": "stream",
     "text": [
      "10\n"
     ]
    }
   ],
   "source": [
    "name = \"Dev Incept\"\n",
    "print(len(name))            # gives the length of the string \n",
    "                            # NOTE : Spaces are also considered"
   ]
  },
  {
   "cell_type": "code",
   "execution_count": 22,
   "metadata": {},
   "outputs": [
    {
     "name": "stdout",
     "output_type": "stream",
     "text": [
      "t\n"
     ]
    }
   ],
   "source": [
    "name = \"Dev Incept\" \n",
    "print(name[-1])           # \"-1\" means the last letter of the string"
   ]
  },
  {
   "cell_type": "code",
   "execution_count": 23,
   "metadata": {},
   "outputs": [
    {
     "name": "stdout",
     "output_type": "stream",
     "text": [
      "cep\n"
     ]
    }
   ],
   "source": [
    "name = \"Dev Incept\" \n",
    "print(name[-4 : -1])"
   ]
  },
  {
   "cell_type": "code",
   "execution_count": 24,
   "metadata": {},
   "outputs": [
    {
     "name": "stdout",
     "output_type": "stream",
     "text": [
      "tpecnI veD\n"
     ]
    }
   ],
   "source": [
    "name = \"Dev Incept\"\n",
    "print(name[::-1])      # PRINTS THE REVERSE OF THE STRING"
   ]
  },
  {
   "cell_type": "markdown",
   "metadata": {},
   "source": [
    "# Type Conversions"
   ]
  },
  {
   "cell_type": "code",
   "execution_count": 25,
   "metadata": {},
   "outputs": [
    {
     "name": "stdout",
     "output_type": "stream",
     "text": [
      "5.0\n"
     ]
    }
   ],
   "source": [
    "x = 5 \n",
    "y = float(x)        # converting integer to a float\n",
    "print(y)"
   ]
  },
  {
   "cell_type": "code",
   "execution_count": 26,
   "metadata": {},
   "outputs": [
    {
     "name": "stdout",
     "output_type": "stream",
     "text": [
      "4\n"
     ]
    }
   ],
   "source": [
    "x = 4.34\n",
    "y = int(x)         # converting float to int \n",
    "print(y)"
   ]
  },
  {
   "cell_type": "code",
   "execution_count": 27,
   "metadata": {},
   "outputs": [
    {
     "name": "stdout",
     "output_type": "stream",
     "text": [
      "False\n"
     ]
    }
   ],
   "source": [
    "x = 0\n",
    "y = bool(x)        # converting int to boolean\n",
    "print(y) "
   ]
  },
  {
   "cell_type": "code",
   "execution_count": 28,
   "metadata": {},
   "outputs": [
    {
     "name": "stdout",
     "output_type": "stream",
     "text": [
      "1\n",
      "<class 'int'>\n",
      "1.0\n",
      "<class 'float'>\n"
     ]
    }
   ],
   "source": [
    "x = int(True)         # converting boolean to int \n",
    "print(x)\n",
    "print(type(x))\n",
    "\n",
    "#===============OR=============\n",
    "\n",
    "a = True\n",
    "b = float(a)          # converting bool to float\n",
    "print(b)\n",
    "print(type(b))"
   ]
  },
  {
   "cell_type": "code",
   "execution_count": 29,
   "metadata": {},
   "outputs": [
    {
     "name": "stdout",
     "output_type": "stream",
     "text": [
      "9\n",
      "1001\n",
      "4097\n"
     ]
    }
   ],
   "source": [
    "# int(a , base)\n",
    "\n",
    "a = \"1001\"\n",
    "print(int(a,2))       # converting binary number to integer\n",
    "\n",
    "print(int(a,10))      # converting binary number to decimal value\n",
    "\n",
    "print(int(a,16))      # converting binary number to hexadecimal value"
   ]
  },
  {
   "cell_type": "code",
   "execution_count": 30,
   "metadata": {},
   "outputs": [
    {
     "name": "stdout",
     "output_type": "stream",
     "text": [
      "0x2d\n",
      "0o55\n"
     ]
    }
   ],
   "source": [
    "num = 45\n",
    "print(hex(num))     # converting num to hexadecimal\n",
    "print(oct(num))     # converting num to ocatal"
   ]
  },
  {
   "cell_type": "markdown",
   "metadata": {},
   "source": [
    "# Operation on different types"
   ]
  },
  {
   "cell_type": "markdown",
   "metadata": {},
   "source": [
    "***Arithemetic Operators***"
   ]
  },
  {
   "cell_type": "code",
   "execution_count": 31,
   "metadata": {},
   "outputs": [
    {
     "name": "stdout",
     "output_type": "stream",
     "text": [
      "Addition :  30\n",
      "Subtraction :  -10\n",
      "Multiplication :  200\n",
      "Divivsion :  0.5\n",
      "Modulus :  10\n",
      "Floor division :  0\n",
      "Exponential :  100000000000000000000\n"
     ]
    }
   ],
   "source": [
    "x = 10 \n",
    "y = 20\n",
    "\n",
    "print(\"Addition : \",x + y)\n",
    "print(\"Subtraction : \",x - y)\n",
    "print(\"Multiplication : \",x * y) \n",
    "print(\"Divivsion : \",x / y)\n",
    "print(\"Modulus : \",x % y)\n",
    "print(\"Floor division : \",x // y)\n",
    "print(\"Exponential : \",x ** y)"
   ]
  },
  {
   "cell_type": "markdown",
   "metadata": {},
   "source": [
    "***Comparison Operators***"
   ]
  },
  {
   "cell_type": "code",
   "execution_count": 32,
   "metadata": {},
   "outputs": [
    {
     "name": "stdout",
     "output_type": "stream",
     "text": [
      "x = y : False\n",
      "x < y : True\n",
      "x > y : False\n",
      "x <= y : True\n",
      "x >= y : False\n",
      "x != y : True\n"
     ]
    }
   ],
   "source": [
    "x = 10 \n",
    "y = 20 \n",
    "\n",
    "print(\"x = y :\", x == y)\n",
    "print(\"x < y :\", x < y)\n",
    "print(\"x > y :\", x > y)\n",
    "print(\"x <= y :\", x <= y)\n",
    "print(\"x >= y :\", x >= y)\n",
    "print(\"x != y :\", x != y)     # not equal to\n",
    "\n"
   ]
  },
  {
   "cell_type": "markdown",
   "metadata": {},
   "source": [
    "***Logical Operators***"
   ]
  },
  {
   "cell_type": "code",
   "execution_count": 33,
   "metadata": {},
   "outputs": [
    {
     "name": "stdout",
     "output_type": "stream",
     "text": [
      "AND : False\n",
      "OR : True\n",
      "NAND : True\n",
      "NOR :  False\n"
     ]
    }
   ],
   "source": [
    "x = 10\n",
    "\n",
    "print(\"AND :\",x > 5 and x < 10)        # Both conditions True --> output will be True , or else False\n",
    "print(\"OR :\",x > 5 or x < 10)         # Any one condition is True --> output will be True , or else False\n",
    "print(\"NAND :\",not(x >5 and x < 10))    # opposite to AND i.e, NAND \n",
    "print(\"NOR : \",not(x > 5 or x < 10) )   # opposite to OR i.e, NOR"
   ]
  },
  {
   "cell_type": "markdown",
   "metadata": {},
   "source": [
    "***Bitwise Operators***"
   ]
  },
  {
   "cell_type": "code",
   "execution_count": 35,
   "metadata": {},
   "outputs": [
    {
     "name": "stdout",
     "output_type": "stream",
     "text": [
      "x AND y is : 1000\n",
      "x OR y is : 1001\n",
      "x XOR y is : 1\n",
      "NOT y is : -1001\n"
     ]
    }
   ],
   "source": [
    "# These operators are used to compare  Binary numbers\n",
    "x = 1001\n",
    "y = 1000\n",
    "\n",
    "print(\"x AND y is :\",x & y)\n",
    "print(\"x OR y is :\",x | y)\n",
    "print(\"x XOR y is :\",x ^ y)\n",
    "print(\"NOT y is :\", ~ y)"
   ]
  }
 ],
 "metadata": {
  "kernelspec": {
   "display_name": "Python 3",
   "language": "python",
   "name": "python3"
  },
  "language_info": {
   "codemirror_mode": {
    "name": "ipython",
    "version": 3
   },
   "file_extension": ".py",
   "mimetype": "text/x-python",
   "name": "python",
   "nbconvert_exporter": "python",
   "pygments_lexer": "ipython3",
   "version": "3.6.5"
  }
 },
 "nbformat": 4,
 "nbformat_minor": 1
}
